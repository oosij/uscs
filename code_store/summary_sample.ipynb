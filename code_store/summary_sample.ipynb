{
 "cells": [
  {
   "cell_type": "code",
   "execution_count": 2,
   "id": "9ace8d9e",
   "metadata": {},
   "outputs": [],
   "source": [
    "from datetime import datetime as dtime\n",
    "import datetime\n",
    "import time\n",
    "import pymysql\n",
    "import torch\n",
    "import transformers\n",
    "from transformers import BartTokenizer, BartForConditionalGeneration\n",
    "from nltk import sent_tokenize\n",
    "from summarizer import Summarizer\n",
    "import warnings\n",
    "warnings.filterwarnings('ignore')"
   ]
  },
  {
   "cell_type": "code",
   "execution_count": 4,
   "id": "6f774e40",
   "metadata": {},
   "outputs": [],
   "source": [
    "# 로컬 db \n",
    "db = pymysql.connect(host='127.0.0.1', port=3306, user='root',\n",
    "                         password=\"1234\", db='jisoo', charset='utf8')"
   ]
  },
  {
   "cell_type": "code",
   "execution_count": 29,
   "id": "411db8ff",
   "metadata": {},
   "outputs": [],
   "source": [
    "#ticker = 'TQQQ' # QQQ, SPY\n",
    "#checking_sql = \"SELECT * FROM US_Stock_Market_News where category = 'etf_news' and symbol = '\"+ticker+\"' and w_date between date('2022-11-15') and date('2022-11-16') \"\n",
    "checking_sql = \"SELECT * FROM US_Stock_Market_News where category = 'etf_news'\"\n",
    "cur = db.cursor()\n",
    "cur.execute(checking_sql)\n",
    "result = cur.fetchall()"
   ]
  },
  {
   "cell_type": "code",
   "execution_count": 30,
   "id": "d62f14b9",
   "metadata": {},
   "outputs": [
    {
     "data": {
      "text/plain": [
       "179"
      ]
     },
     "execution_count": 30,
     "metadata": {},
     "output_type": "execute_result"
    }
   ],
   "source": [
    "len(result)"
   ]
  },
  {
   "cell_type": "code",
   "execution_count": 31,
   "id": "b8b7b962",
   "metadata": {},
   "outputs": [],
   "source": [
    "ticker_sample = ['QQQ', 'SPY', 'XLE']"
   ]
  },
  {
   "cell_type": "code",
   "execution_count": 52,
   "id": "415f1bdc",
   "metadata": {},
   "outputs": [],
   "source": [
    "news_list = []\n",
    "\n",
    "news_dict = {'QQQ':[], 'SPY':[], 'XLE':[]}\n",
    "\n",
    "for r in range(len(result)):\n",
    "    ticker = result[r][9]\n",
    "    if ticker not in ticker_sample:\n",
    "        continue\n",
    "    data = [result[r][3], result[r][4], result[r][6]]\n",
    "    news_dict[ticker].append(data)"
   ]
  },
  {
   "cell_type": "code",
   "execution_count": 54,
   "id": "f99f0598",
   "metadata": {},
   "outputs": [],
   "source": [
    "select_date = '2022-11-15'\n",
    "\n",
    "data_dict ={'QQQ':[], 'SPY':[], 'XLE':[]}\n",
    "\n",
    "for i in range(len(ticker_sample)):\n",
    "    symbols = ticker_sample[i]\n",
    "    for j in range(len(news_dict[symbols])):\n",
    "        in_news = news_dict[symbols][j]\n",
    "        date_str = in_news[1].strftime('%Y-%m-%d')\n",
    "        if select_date != date_str:\n",
    "            continue\n",
    "        data_dict[symbols].append(in_news[0])"
   ]
  },
  {
   "cell_type": "code",
   "execution_count": 55,
   "id": "62ebcdca",
   "metadata": {},
   "outputs": [
    {
     "data": {
      "text/plain": [
       "(7, 6, 4)"
      ]
     },
     "execution_count": 55,
     "metadata": {},
     "output_type": "execute_result"
    }
   ],
   "source": [
    "len(data_dict['QQQ']), len(data_dict['SPY']), len(data_dict['XLE'])"
   ]
  },
  {
   "cell_type": "code",
   "execution_count": 56,
   "id": "3d64a74c",
   "metadata": {},
   "outputs": [
    {
     "data": {
      "text/plain": [
       "'When 2022 draws to a close, it’s likely that inflation will be resting at its highest levels since the early 1980s, explaining why growth stocks faltered this year. It remains to be seen, but the October reading of the Consumer Price Index (CPI) declined to 7.7%, which could be a sign that cost pressures are finally abating. If the CPI continues declining in material fashion, exchange traded funds such as the Invesco QQQ Trust (QQQ) and the Invesco NASDAQ 100 ETF (QQQM) could rally. Proving their sensitivity to inflation headlines, QQQ and QQQM surged nearly 9% last week, including 1.84% gains on Friday. That helped the two Invesco ETFs close at their highest levels since September. The duo is higher by 7.12% over the past month. QQQ and QQQM could be set up for better things next year and beyond, assuming inflation cools. “We forecast inflation to average 2.6% over 2022-26 as a whole (in terms of the personal consumption expenditures price index), only slightly above the Fed’s 2% target. The year 2022 will deliver the worst for inflation (6.1%), but over 2023-26, we expect inflation to average just 1.7%,” noted Morningstar analyst Preston Caldwell. It’s plausible that inflation will cool next year because a significant portion of it is attributable to a small number of segments, including auto prices and energy. There’s already evidence that used car prices are in rapid decline. While neither industry is heavily represented in QQQ and QQQM, increased auto affordability is relevant to the ETFs because some their member firms, namely chip makers, are components suppliers to the automotive industry. “A little more than a fourth of that total (2.5%) comes from autos, since prices have spiked as vehicle production has been held back by the semiconductor shortage. Another 1% comes from other core goods affected by issues similar to those faced by vehicles,” added Caldwell. “Energy prices have contributed about 2.1% of the excess inflation (not to mention spillover effects via input prices to other goods categories), driven mainly by the impact of the war in Ukraine.” If inflation continues showing signs of retreat, that could prompt the Federal Reserve to be less aggressive, or even pause, rate hikes. There are signs that the central bank will move in that direction, and that’s highly relevant to investors mulling QQQ or QQQM because both ETFs are being hindered by rate tightening this year.'"
      ]
     },
     "execution_count": 56,
     "metadata": {},
     "output_type": "execute_result"
    }
   ],
   "source": [
    "data_dict['QQQ'][0]"
   ]
  },
  {
   "cell_type": "code",
   "execution_count": 65,
   "id": "81f6123e",
   "metadata": {},
   "outputs": [],
   "source": [
    "ticker_bell = data_dict['XLE']\n",
    "doc = []\n",
    "\n",
    "for p in range(len(ticker_bell)):\n",
    "    text = ticker_bell[p]\n",
    "    if len(doc) == 0:\n",
    "        doc = text  # 본문 \n",
    "    else:\n",
    "        doc = doc + ' ' + text"
   ]
  },
  {
   "cell_type": "code",
   "execution_count": 66,
   "id": "12e88ab2",
   "metadata": {},
   "outputs": [
    {
     "name": "stderr",
     "output_type": "stream",
     "text": [
      "Truncation was not explicitly activated but `max_length` is provided a specific value, please use `truncation=True` to explicitly truncate examples to max length. Defaulting to 'longest_first' truncation strategy. If you encode pairs of sequences (GLUE-style) with the tokenizer you can select this strategy more precisely by providing a specific strategy to `truncation`.\n"
     ]
    }
   ],
   "source": [
    "bert_summary = Summarizer()\n",
    "bsum = bert_summary(doc,  ratio=0.2, num_sentences=3)  # ratio=0.2\n",
    "bart = bart_generate(bsum)"
   ]
  },
  {
   "cell_type": "code",
   "execution_count": 67,
   "id": "f35cc651",
   "metadata": {},
   "outputs": [
    {
     "data": {
      "text/plain": [
       "\"Designed to provide broad exposure to the Energy - Broad segment of the equity market, the iShares U.S. Energy ETF (IYE) is a passively managed exchange traded fund launched on 06/12/2000. One ETF closely tracking Services stocks is the iShares U.S. Consumer Services ETF (IYC), which is up 1.0% in midday trading, and down 25.80% on a year-to-date basis. Quarterly rebalancing occurs to ensure an individual security doesn't make up more than 25% of the sector.\""
      ]
     },
     "execution_count": 67,
     "metadata": {},
     "output_type": "execute_result"
    }
   ],
   "source": [
    "bsum"
   ]
  },
  {
   "cell_type": "code",
   "execution_count": 68,
   "id": "ca37f9b8",
   "metadata": {},
   "outputs": [
    {
     "data": {
      "text/plain": [
       "\"The iShares U.S. Consumer Services ETF (IYC) is up 1.0% in midday trading, and down 25.80% on a year-to-date basis. quarterly rebalancing occurs to ensure an individual security doesn't make up more than 25% of the sector.\""
      ]
     },
     "execution_count": 68,
     "metadata": {},
     "output_type": "execute_result"
    }
   ],
   "source": [
    "bart"
   ]
  },
  {
   "cell_type": "code",
   "execution_count": null,
   "id": "ba8d5525",
   "metadata": {},
   "outputs": [],
   "source": []
  },
  {
   "cell_type": "code",
   "execution_count": null,
   "id": "dfedba3a",
   "metadata": {},
   "outputs": [],
   "source": []
  },
  {
   "cell_type": "code",
   "execution_count": null,
   "id": "0fdac82d",
   "metadata": {},
   "outputs": [],
   "source": []
  },
  {
   "cell_type": "code",
   "execution_count": 3,
   "id": "fdcf5d6c",
   "metadata": {},
   "outputs": [],
   "source": [
    "def bart_summarize(text, num_beams, length_penalty, max_length, min_length, no_repeat_ngram_size):\n",
    "    model = BartForConditionalGeneration.from_pretrained('facebook/bart-large-cnn')\n",
    "    tokenizer = BartTokenizer.from_pretrained('facebook/bart-large-cnn')\n",
    "\n",
    "    torch_device = 'cpu'\n",
    "\n",
    "    text = text.replace('\\n', '')\n",
    "    text_input_ids = tokenizer.batch_encode_plus([text], return_tensors='pt', max_length=1024)['input_ids'].to(\n",
    "        torch_device)\n",
    "    summary_ids = model.generate(text_input_ids, num_beams=int(num_beams), length_penalty=float(length_penalty),\n",
    "                                 max_length=int(max_length), min_length=int(min_length),\n",
    "                                 no_repeat_ngram_size=int(no_repeat_ngram_size))\n",
    "    summary_txt = tokenizer.decode(summary_ids.squeeze(), skip_special_tokens=True)\n",
    "    return summary_txt\n",
    "\n",
    "\n",
    "def bart_generate(doc):\n",
    "    #target = sent_tokenize(doc)\n",
    "    #target_sent = target[0] + ' ' + target[1] + ' ' + target[2]\n",
    "    #print(len(target),len(target_sent ))\n",
    "    target_sent = doc\n",
    "\n",
    "    ## bart\n",
    "    num_beams = 4\n",
    "    length_penalty = 2.0\n",
    "    max_length =  142\n",
    "    min_length = 56\n",
    "    no_repeat_ngram_size = 3\n",
    "    # 문장별 입력... 별로 좋은 결과는 x\n",
    "    #bart_1 = bart_summarize(target[0] , num_beams, length_penalty, max_length, min_length, no_repeat_ngram_size)\n",
    "    #bart_2 = bart_summarize(target[1], num_beams, length_penalty, max_length, min_length, no_repeat_ngram_size)\n",
    "    #bart_3 = bart_summarize(target[1], num_beams, length_penalty, max_length, min_length, no_repeat_ngram_size)\n",
    "    #bart = bart_1 + ' ' + bart_2 + ' ' + bart_3\n",
    "\n",
    "    bart = bart_summarize(target_sent , num_beams, length_penalty, max_length, min_length, no_repeat_ngram_size)\n",
    "\n",
    "    return bart\n",
    "\n",
    "\n",
    "## 현재 - 내일 사이의 뉴스 요약\n",
    "def today_tomorrow(now):\n",
    "    #today = now.strftime('%Y-%m-%d')\n",
    "    us_today = now - datetime.timedelta(days=1)  # 미국 시각과 한국 시간 차이\n",
    "    today = us_today.strftime('%Y-%m-%d')\n",
    "    now_after = us_today + datetime.timedelta(days=1)\n",
    "    tomorrow = now_after.strftime('%Y-%m-%d')\n",
    "\n",
    "    return today, tomorrow\n",
    "\n",
    "## where press != 'Kiplinger' and\n",
    "\n",
    "\n",
    "def summary_run(db, today, tomorrow, category):\n",
    "    #now = dtime.now()\n",
    "    #today, tomorrow = today_tomorrow(now)\n",
    "\n",
    "    #today = '2022-07-22'  # 차후 특정 시간대 수집한 뉴스 3가지만 가능하도록...\n",
    "    #tomorrow = '2022-07-23'  # 차후 특정 시간대 수집한 뉴스 3가지만 가능하도록...\n",
    "\n",
    "    #print(today, tomorrow)\n",
    "\n",
    "    title, texts, date = search_sql_news(db,  today, tomorrow, category)\n",
    "    bert_summary = Summarizer()\n",
    "    bsum = bert_summary(texts,  ratio=0.2, num_sentences=3)  # ratio=0.2\n",
    "    bart = bart_generate(bsum)\n",
    "    subject = bart_generate(title)\n",
    "    #  이 2개의 원문을 db tabel에 저장할수 있도록\n",
    "    return subject, bsum, bart, date\n"
   ]
  },
  {
   "cell_type": "code",
   "execution_count": null,
   "id": "676a7e3a",
   "metadata": {},
   "outputs": [],
   "source": []
  }
 ],
 "metadata": {
  "kernelspec": {
   "display_name": "Python 3 (ipykernel)",
   "language": "python",
   "name": "python3"
  },
  "language_info": {
   "codemirror_mode": {
    "name": "ipython",
    "version": 3
   },
   "file_extension": ".py",
   "mimetype": "text/x-python",
   "name": "python",
   "nbconvert_exporter": "python",
   "pygments_lexer": "ipython3",
   "version": "3.9.12"
  }
 },
 "nbformat": 4,
 "nbformat_minor": 5
}
