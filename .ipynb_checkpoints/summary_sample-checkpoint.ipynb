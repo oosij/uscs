{
 "cells": [
  {
   "cell_type": "code",
   "execution_count": 2,
   "id": "d46c92aa",
   "metadata": {},
   "outputs": [],
   "source": [
    "from datetime import datetime as dtime\n",
    "import datetime\n",
    "import time\n",
    "import pymysql\n",
    "import torch\n",
    "import transformers\n",
    "from transformers import BartTokenizer, BartForConditionalGeneration\n",
    "from nltk import sent_tokenize\n",
    "from summarizer import Summarizer\n",
    "import warnings\n",
    "warnings.filterwarnings('ignore')"
   ]
  },
  {
   "cell_type": "code",
   "execution_count": 4,
   "id": "c199f1d5",
   "metadata": {},
   "outputs": [],
   "source": [
    "# 로컬 db \n",
    "db = pymysql.connect(host='127.0.0.1', port=3306, user='root',\n",
    "                         password=\"1234\", db='jisoo', charset='utf8')"
   ]
  },
  {
   "cell_type": "code",
   "execution_count": 21,
   "id": "728fa979",
   "metadata": {},
   "outputs": [],
   "source": [
    "ticker = 'SPY' # QQQ, SPY\n",
    "checking_sql = \"SELECT * FROM US_Stock_Market_News where category = 'etf_news' and symbol = '\"+ticker+\"' and w_date between date('2022-11-15') and date('2022-11-16') \"\n",
    "\n",
    "cur = db.cursor()\n",
    "cur.execute(checking_sql)\n",
    "result = cur.fetchall()"
   ]
  },
  {
   "cell_type": "code",
   "execution_count": 22,
   "id": "2775a8a7",
   "metadata": {},
   "outputs": [
    {
     "data": {
      "text/plain": [
       "6"
      ]
     },
     "execution_count": 22,
     "metadata": {},
     "output_type": "execute_result"
    }
   ],
   "source": [
    "len(result)"
   ]
  },
  {
   "cell_type": "code",
   "execution_count": null,
   "id": "82b52e4b",
   "metadata": {},
   "outputs": [],
   "source": []
  },
  {
   "cell_type": "code",
   "execution_count": null,
   "id": "aacf1868",
   "metadata": {},
   "outputs": [],
   "source": []
  },
  {
   "cell_type": "code",
   "execution_count": null,
   "id": "ba38b076",
   "metadata": {},
   "outputs": [],
   "source": [
    "bert_summary = Summarizer()\n",
    "bsum = bert_summary(doc,  ratio=0.2, num_sentences=3)  # ratio=0.2\n",
    "bart = bart_generate(bsum)"
   ]
  },
  {
   "cell_type": "code",
   "execution_count": null,
   "id": "174932af",
   "metadata": {},
   "outputs": [],
   "source": [
    "bsum"
   ]
  },
  {
   "cell_type": "code",
   "execution_count": null,
   "id": "76425cc1",
   "metadata": {},
   "outputs": [],
   "source": []
  },
  {
   "cell_type": "code",
   "execution_count": null,
   "id": "3db491f7",
   "metadata": {},
   "outputs": [],
   "source": []
  },
  {
   "cell_type": "code",
   "execution_count": null,
   "id": "c13debd2",
   "metadata": {},
   "outputs": [],
   "source": []
  },
  {
   "cell_type": "code",
   "execution_count": null,
   "id": "a6de63fd",
   "metadata": {},
   "outputs": [],
   "source": []
  },
  {
   "cell_type": "code",
   "execution_count": 3,
   "id": "bad7b441",
   "metadata": {},
   "outputs": [],
   "source": [
    "def bart_summarize(text, num_beams, length_penalty, max_length, min_length, no_repeat_ngram_size):\n",
    "    model = BartForConditionalGeneration.from_pretrained('facebook/bart-large-cnn')\n",
    "    tokenizer = BartTokenizer.from_pretrained('facebook/bart-large-cnn')\n",
    "\n",
    "    torch_device = 'cpu'\n",
    "\n",
    "    text = text.replace('\\n', '')\n",
    "    text_input_ids = tokenizer.batch_encode_plus([text], return_tensors='pt', max_length=1024)['input_ids'].to(\n",
    "        torch_device)\n",
    "    summary_ids = model.generate(text_input_ids, num_beams=int(num_beams), length_penalty=float(length_penalty),\n",
    "                                 max_length=int(max_length), min_length=int(min_length),\n",
    "                                 no_repeat_ngram_size=int(no_repeat_ngram_size))\n",
    "    summary_txt = tokenizer.decode(summary_ids.squeeze(), skip_special_tokens=True)\n",
    "    return summary_txt\n",
    "\n",
    "\n",
    "def bart_generate(doc):\n",
    "    #target = sent_tokenize(doc)\n",
    "    #target_sent = target[0] + ' ' + target[1] + ' ' + target[2]\n",
    "    #print(len(target),len(target_sent ))\n",
    "    target_sent = doc\n",
    "\n",
    "    ## bart\n",
    "    num_beams = 4\n",
    "    length_penalty = 2.0\n",
    "    max_length =  142\n",
    "    min_length = 56\n",
    "    no_repeat_ngram_size = 3\n",
    "    # 문장별 입력... 별로 좋은 결과는 x\n",
    "    #bart_1 = bart_summarize(target[0] , num_beams, length_penalty, max_length, min_length, no_repeat_ngram_size)\n",
    "    #bart_2 = bart_summarize(target[1], num_beams, length_penalty, max_length, min_length, no_repeat_ngram_size)\n",
    "    #bart_3 = bart_summarize(target[1], num_beams, length_penalty, max_length, min_length, no_repeat_ngram_size)\n",
    "    #bart = bart_1 + ' ' + bart_2 + ' ' + bart_3\n",
    "\n",
    "    bart = bart_summarize(target_sent , num_beams, length_penalty, max_length, min_length, no_repeat_ngram_size)\n",
    "\n",
    "    return bart\n",
    "\n",
    "\n",
    "## 현재 - 내일 사이의 뉴스 요약\n",
    "def today_tomorrow(now):\n",
    "    #today = now.strftime('%Y-%m-%d')\n",
    "    us_today = now - datetime.timedelta(days=1)  # 미국 시각과 한국 시간 차이\n",
    "    today = us_today.strftime('%Y-%m-%d')\n",
    "    now_after = us_today + datetime.timedelta(days=1)\n",
    "    tomorrow = now_after.strftime('%Y-%m-%d')\n",
    "\n",
    "    return today, tomorrow\n",
    "\n",
    "## where press != 'Kiplinger' and\n",
    "\n",
    "\n",
    "def summary_run(db, today, tomorrow, category):\n",
    "    #now = dtime.now()\n",
    "    #today, tomorrow = today_tomorrow(now)\n",
    "\n",
    "    #today = '2022-07-22'  # 차후 특정 시간대 수집한 뉴스 3가지만 가능하도록...\n",
    "    #tomorrow = '2022-07-23'  # 차후 특정 시간대 수집한 뉴스 3가지만 가능하도록...\n",
    "\n",
    "    #print(today, tomorrow)\n",
    "\n",
    "    title, texts, date = search_sql_news(db,  today, tomorrow, category)\n",
    "    bert_summary = Summarizer()\n",
    "    bsum = bert_summary(texts,  ratio=0.2, num_sentences=3)  # ratio=0.2\n",
    "    bart = bart_generate(bsum)\n",
    "    subject = bart_generate(title)\n",
    "    #  이 2개의 원문을 db tabel에 저장할수 있도록\n",
    "    return subject, bsum, bart, date\n"
   ]
  },
  {
   "cell_type": "code",
   "execution_count": null,
   "id": "30d25c92",
   "metadata": {},
   "outputs": [],
   "source": []
  }
 ],
 "metadata": {
  "kernelspec": {
   "display_name": "Python 3 (ipykernel)",
   "language": "python",
   "name": "python3"
  },
  "language_info": {
   "codemirror_mode": {
    "name": "ipython",
    "version": 3
   },
   "file_extension": ".py",
   "mimetype": "text/x-python",
   "name": "python",
   "nbconvert_exporter": "python",
   "pygments_lexer": "ipython3",
   "version": "3.9.12"
  }
 },
 "nbformat": 4,
 "nbformat_minor": 5
}
